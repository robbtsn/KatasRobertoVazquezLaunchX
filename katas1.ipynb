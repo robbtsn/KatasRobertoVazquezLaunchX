{
 "cells": [
  {
   "cell_type": "code",
   "execution_count": 1,
   "metadata": {},
   "outputs": [
    {
     "name": "stdout",
     "output_type": "stream",
     "text": [
      "Today date is2022-02-21\n"
     ]
    }
   ],
   "source": [
    "from datetime import date \n",
    "print(\"Today date is\" + str(date.today()))"
   ]
  },
  {
   "cell_type": "code",
   "execution_count": 2,
   "metadata": {},
   "outputs": [
    {
     "name": "stdout",
     "output_type": "stream",
     "text": [
      "11 parsec is 35.8765 lightyear, sir\n"
     ]
    }
   ],
   "source": [
    "parsecs = 11\n",
    "lightyear = 3.2615*parsecs\n",
    "print(str(parsecs)+\" parsec is \" + str(lightyear)+\" lightyear, sir\")"
   ]
  }
 ],
 "metadata": {
  "interpreter": {
   "hash": "e675fc10e92221fcaec841ef1001162fc9038466e1f6736c5d11c799132234af"
  },
  "kernelspec": {
   "display_name": "Python 3.9.10 64-bit (windows store)",
   "language": "python",
   "name": "python3"
  },
  "language_info": {
   "codemirror_mode": {
    "name": "ipython",
    "version": 3
   },
   "file_extension": ".py",
   "mimetype": "text/x-python",
   "name": "python",
   "nbconvert_exporter": "python",
   "pygments_lexer": "ipython3",
   "version": "3.9.10"
  },
  "orig_nbformat": 4
 },
 "nbformat": 4,
 "nbformat_minor": 2
}
